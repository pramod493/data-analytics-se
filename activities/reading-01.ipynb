{
 "cells": [
  {
   "cell_type": "markdown",
   "metadata": {},
   "source": [
    "# Reading Activity 1: Introduction to Predictive Modeling\n",
    "\n",
    "## Objectives\n",
    "+ To define predictive modeling.\n",
    "+ To introduce the idea of structural causal models and their graphical representation.\n",
    "+ To tell the difference between aleatory and epistemic uncertainties.\n",
    "\n",
    "## Predictive Modeling\n",
    "\n",
    "> Reports that say that something hasn't happened are always interesting to me, because as we know, there are known knowns; there are things we know we know. We also know there are known unknowns; that is to say we know there are some things we do not know. But there are also unknown unknowns—the ones we don't know we don't know. And if one looks throughout the history of our country and other free countries, it is the latter category that tend to be the difficult ones. Donald Rumsfeld, United States Secretary of Defense, [DoD news briefing, February 12, 2002](https://archive.defense.gov/Transcripts/Transcript.aspx?TranscriptID=2636).\n",
    "\n",
    "*Predictive modeling* is the process of describing our state of knowledge about known unknowns in order to make informed decisions.\n",
    "This is the scope of this class.\n",
    "\n",
    "Unfortunately, there is no automated way for turning unknown unknowns to known unknowns.\n",
    "This is currently done manually as it requires common sense and human intuition.\n",
    "Automating this process seems to require the ability to perform induction on open-ended problems and it may require general artificial intelligence.\n",
    "\n",
    "## Structural causal models\n",
    "\n",
    "A *causal model* is a model that attempts to capture the mechanisms that govern a given phenomenon.\n",
    "We will use the language of *structural causal models* (SCM), developed by the computer scientist Judea Pearl, to formalize the concept.\n",
    "A structural causal model is a collection of three things:\n",
    "+ A set of variables. These are variables that our model is trying to explain (endogenous), but also other variables that may just be needed (exogenous).\n",
    "+ A set of functions that give values to each variable based on the values of all other variables.\n",
    "\n",
    "Most physical and engineering models are causal models.\n",
    "\n",
    "### Example: Asthma model (J. Pearl)\n",
    "\n",
    "Suppose that we are trying to study the causal relationships between a treatment $X$ and lung function $Y$ for individuals who suffer from asthma.\n",
    "However, it is plausible that $Y$ also depends on the air pollution levels $Z$.\n",
    "The final ingredient is the set of function that connects $X$ and $Z$ to $Y$.\n",
    "$$\n",
    "Y = f(X, Z).\n",
    "$$\n",
    "\n",
    "### Graphical representation of causal models\n",
    "Every SCM is corresponds to a *graphical causal model*.\n",
    "These are usually *directed acyclic graphs* (DAGs).\n",
    "These can be read trivially from the SCM form.\n",
    "Let's look at an example.\n",
    "\n",
    "### Example: Asthma model - Graphical causal model\n",
    "Here I am representing each variable with a node.\n",
    "The node at the beginning on an arrow is the direct cause of the node at the end of the arrow."
   ]
  },
  {
   "cell_type": "code",
   "execution_count": 1,
   "metadata": {},
   "outputs": [
    {
     "ename": "ExecutableNotFound",
     "evalue": "failed to execute 'dot', make sure the Graphviz executables are on your systems' PATH",
     "output_type": "error",
     "traceback": [
      "\u001B[1;31m---------------------------------------------------------------------------\u001B[0m",
      "\u001B[1;31mFileNotFoundError\u001B[0m                         Traceback (most recent call last)",
      "\u001B[1;32m~\\anaconda3\\envs\\me539\\lib\\site-packages\\graphviz\\backend.py\u001B[0m in \u001B[0;36mrun\u001B[1;34m(cmd, input, capture_output, check, encoding, quiet, **kwargs)\u001B[0m\n\u001B[0;32m    169\u001B[0m     \u001B[1;32mtry\u001B[0m\u001B[1;33m:\u001B[0m\u001B[1;33m\u001B[0m\u001B[1;33m\u001B[0m\u001B[0m\n\u001B[1;32m--> 170\u001B[1;33m         \u001B[0mproc\u001B[0m \u001B[1;33m=\u001B[0m \u001B[0msubprocess\u001B[0m\u001B[1;33m.\u001B[0m\u001B[0mPopen\u001B[0m\u001B[1;33m(\u001B[0m\u001B[0mcmd\u001B[0m\u001B[1;33m,\u001B[0m \u001B[0mstartupinfo\u001B[0m\u001B[1;33m=\u001B[0m\u001B[0mget_startupinfo\u001B[0m\u001B[1;33m(\u001B[0m\u001B[1;33m)\u001B[0m\u001B[1;33m,\u001B[0m \u001B[1;33m**\u001B[0m\u001B[0mkwargs\u001B[0m\u001B[1;33m)\u001B[0m\u001B[1;33m\u001B[0m\u001B[1;33m\u001B[0m\u001B[0m\n\u001B[0m\u001B[0;32m    171\u001B[0m     \u001B[1;32mexcept\u001B[0m \u001B[0mOSError\u001B[0m \u001B[1;32mas\u001B[0m \u001B[0me\u001B[0m\u001B[1;33m:\u001B[0m\u001B[1;33m\u001B[0m\u001B[1;33m\u001B[0m\u001B[0m\n",
      "\u001B[1;32m~\\anaconda3\\envs\\me539\\lib\\subprocess.py\u001B[0m in \u001B[0;36m__init__\u001B[1;34m(self, args, bufsize, executable, stdin, stdout, stderr, preexec_fn, close_fds, shell, cwd, env, universal_newlines, startupinfo, creationflags, restore_signals, start_new_session, pass_fds, encoding, errors, text)\u001B[0m\n\u001B[0;32m    857\u001B[0m \u001B[1;33m\u001B[0m\u001B[0m\n\u001B[1;32m--> 858\u001B[1;33m             self._execute_child(args, executable, preexec_fn, close_fds,\n\u001B[0m\u001B[0;32m    859\u001B[0m                                 \u001B[0mpass_fds\u001B[0m\u001B[1;33m,\u001B[0m \u001B[0mcwd\u001B[0m\u001B[1;33m,\u001B[0m \u001B[0menv\u001B[0m\u001B[1;33m,\u001B[0m\u001B[1;33m\u001B[0m\u001B[1;33m\u001B[0m\u001B[0m\n",
      "\u001B[1;32m~\\anaconda3\\envs\\me539\\lib\\subprocess.py\u001B[0m in \u001B[0;36m_execute_child\u001B[1;34m(self, args, executable, preexec_fn, close_fds, pass_fds, cwd, env, startupinfo, creationflags, shell, p2cread, p2cwrite, c2pread, c2pwrite, errread, errwrite, unused_restore_signals, unused_start_new_session)\u001B[0m\n\u001B[0;32m   1310\u001B[0m             \u001B[1;32mtry\u001B[0m\u001B[1;33m:\u001B[0m\u001B[1;33m\u001B[0m\u001B[1;33m\u001B[0m\u001B[0m\n\u001B[1;32m-> 1311\u001B[1;33m                 hp, ht, pid, tid = _winapi.CreateProcess(executable, args,\n\u001B[0m\u001B[0;32m   1312\u001B[0m                                          \u001B[1;31m# no special security\u001B[0m\u001B[1;33m\u001B[0m\u001B[1;33m\u001B[0m\u001B[1;33m\u001B[0m\u001B[0m\n",
      "\u001B[1;31mFileNotFoundError\u001B[0m: [WinError 2] The system cannot find the file specified",
      "\nThe above exception was the direct cause of the following exception:\n",
      "\u001B[1;31mExecutableNotFound\u001B[0m                        Traceback (most recent call last)",
      "\u001B[1;32m~\\anaconda3\\envs\\me539\\lib\\site-packages\\IPython\\core\\formatters.py\u001B[0m in \u001B[0;36m__call__\u001B[1;34m(self, obj)\u001B[0m\n\u001B[0;32m    343\u001B[0m             \u001B[0mmethod\u001B[0m \u001B[1;33m=\u001B[0m \u001B[0mget_real_method\u001B[0m\u001B[1;33m(\u001B[0m\u001B[0mobj\u001B[0m\u001B[1;33m,\u001B[0m \u001B[0mself\u001B[0m\u001B[1;33m.\u001B[0m\u001B[0mprint_method\u001B[0m\u001B[1;33m)\u001B[0m\u001B[1;33m\u001B[0m\u001B[1;33m\u001B[0m\u001B[0m\n\u001B[0;32m    344\u001B[0m             \u001B[1;32mif\u001B[0m \u001B[0mmethod\u001B[0m \u001B[1;32mis\u001B[0m \u001B[1;32mnot\u001B[0m \u001B[1;32mNone\u001B[0m\u001B[1;33m:\u001B[0m\u001B[1;33m\u001B[0m\u001B[1;33m\u001B[0m\u001B[0m\n\u001B[1;32m--> 345\u001B[1;33m                 \u001B[1;32mreturn\u001B[0m \u001B[0mmethod\u001B[0m\u001B[1;33m(\u001B[0m\u001B[1;33m)\u001B[0m\u001B[1;33m\u001B[0m\u001B[1;33m\u001B[0m\u001B[0m\n\u001B[0m\u001B[0;32m    346\u001B[0m             \u001B[1;32mreturn\u001B[0m \u001B[1;32mNone\u001B[0m\u001B[1;33m\u001B[0m\u001B[1;33m\u001B[0m\u001B[0m\n\u001B[0;32m    347\u001B[0m         \u001B[1;32melse\u001B[0m\u001B[1;33m:\u001B[0m\u001B[1;33m\u001B[0m\u001B[1;33m\u001B[0m\u001B[0m\n",
      "\u001B[1;32m~\\anaconda3\\envs\\me539\\lib\\site-packages\\graphviz\\files.py\u001B[0m in \u001B[0;36m_repr_svg_\u001B[1;34m(self)\u001B[0m\n\u001B[0;32m    139\u001B[0m \u001B[1;33m\u001B[0m\u001B[0m\n\u001B[0;32m    140\u001B[0m     \u001B[1;32mdef\u001B[0m \u001B[0m_repr_svg_\u001B[0m\u001B[1;33m(\u001B[0m\u001B[0mself\u001B[0m\u001B[1;33m)\u001B[0m\u001B[1;33m:\u001B[0m\u001B[1;33m\u001B[0m\u001B[1;33m\u001B[0m\u001B[0m\n\u001B[1;32m--> 141\u001B[1;33m         \u001B[1;32mreturn\u001B[0m \u001B[0mself\u001B[0m\u001B[1;33m.\u001B[0m\u001B[0mpipe\u001B[0m\u001B[1;33m(\u001B[0m\u001B[0mformat\u001B[0m\u001B[1;33m=\u001B[0m\u001B[1;34m'svg'\u001B[0m\u001B[1;33m)\u001B[0m\u001B[1;33m.\u001B[0m\u001B[0mdecode\u001B[0m\u001B[1;33m(\u001B[0m\u001B[0mself\u001B[0m\u001B[1;33m.\u001B[0m\u001B[0m_encoding\u001B[0m\u001B[1;33m)\u001B[0m\u001B[1;33m\u001B[0m\u001B[1;33m\u001B[0m\u001B[0m\n\u001B[0m\u001B[0;32m    142\u001B[0m \u001B[1;33m\u001B[0m\u001B[0m\n\u001B[0;32m    143\u001B[0m     \u001B[1;32mdef\u001B[0m \u001B[0mpipe\u001B[0m\u001B[1;33m(\u001B[0m\u001B[0mself\u001B[0m\u001B[1;33m,\u001B[0m \u001B[0mformat\u001B[0m\u001B[1;33m=\u001B[0m\u001B[1;32mNone\u001B[0m\u001B[1;33m,\u001B[0m \u001B[0mrenderer\u001B[0m\u001B[1;33m=\u001B[0m\u001B[1;32mNone\u001B[0m\u001B[1;33m,\u001B[0m \u001B[0mformatter\u001B[0m\u001B[1;33m=\u001B[0m\u001B[1;32mNone\u001B[0m\u001B[1;33m,\u001B[0m \u001B[0mquiet\u001B[0m\u001B[1;33m=\u001B[0m\u001B[1;32mFalse\u001B[0m\u001B[1;33m)\u001B[0m\u001B[1;33m:\u001B[0m\u001B[1;33m\u001B[0m\u001B[1;33m\u001B[0m\u001B[0m\n",
      "\u001B[1;32m~\\anaconda3\\envs\\me539\\lib\\site-packages\\graphviz\\files.py\u001B[0m in \u001B[0;36mpipe\u001B[1;34m(self, format, renderer, formatter, quiet)\u001B[0m\n\u001B[0;32m    164\u001B[0m         \u001B[0mdata\u001B[0m \u001B[1;33m=\u001B[0m \u001B[0mself\u001B[0m\u001B[1;33m.\u001B[0m\u001B[0msource\u001B[0m\u001B[1;33m.\u001B[0m\u001B[0mencode\u001B[0m\u001B[1;33m(\u001B[0m\u001B[0mself\u001B[0m\u001B[1;33m.\u001B[0m\u001B[0m_encoding\u001B[0m\u001B[1;33m)\u001B[0m\u001B[1;33m\u001B[0m\u001B[1;33m\u001B[0m\u001B[0m\n\u001B[0;32m    165\u001B[0m \u001B[1;33m\u001B[0m\u001B[0m\n\u001B[1;32m--> 166\u001B[1;33m         out = backend.pipe(self._engine, format, data,\n\u001B[0m\u001B[0;32m    167\u001B[0m                            \u001B[0mrenderer\u001B[0m\u001B[1;33m=\u001B[0m\u001B[0mrenderer\u001B[0m\u001B[1;33m,\u001B[0m \u001B[0mformatter\u001B[0m\u001B[1;33m=\u001B[0m\u001B[0mformatter\u001B[0m\u001B[1;33m,\u001B[0m\u001B[1;33m\u001B[0m\u001B[1;33m\u001B[0m\u001B[0m\n\u001B[0;32m    168\u001B[0m                            quiet=quiet)\n",
      "\u001B[1;32m~\\anaconda3\\envs\\me539\\lib\\site-packages\\graphviz\\backend.py\u001B[0m in \u001B[0;36mpipe\u001B[1;34m(engine, format, data, renderer, formatter, quiet)\u001B[0m\n\u001B[0;32m    266\u001B[0m     \"\"\"\n\u001B[0;32m    267\u001B[0m     \u001B[0mcmd\u001B[0m\u001B[1;33m,\u001B[0m \u001B[0m_\u001B[0m \u001B[1;33m=\u001B[0m \u001B[0mcommand\u001B[0m\u001B[1;33m(\u001B[0m\u001B[0mengine\u001B[0m\u001B[1;33m,\u001B[0m \u001B[0mformat\u001B[0m\u001B[1;33m,\u001B[0m \u001B[1;32mNone\u001B[0m\u001B[1;33m,\u001B[0m \u001B[0mrenderer\u001B[0m\u001B[1;33m,\u001B[0m \u001B[0mformatter\u001B[0m\u001B[1;33m)\u001B[0m\u001B[1;33m\u001B[0m\u001B[1;33m\u001B[0m\u001B[0m\n\u001B[1;32m--> 268\u001B[1;33m     \u001B[0mout\u001B[0m\u001B[1;33m,\u001B[0m \u001B[0m_\u001B[0m \u001B[1;33m=\u001B[0m \u001B[0mrun\u001B[0m\u001B[1;33m(\u001B[0m\u001B[0mcmd\u001B[0m\u001B[1;33m,\u001B[0m \u001B[0minput\u001B[0m\u001B[1;33m=\u001B[0m\u001B[0mdata\u001B[0m\u001B[1;33m,\u001B[0m \u001B[0mcapture_output\u001B[0m\u001B[1;33m=\u001B[0m\u001B[1;32mTrue\u001B[0m\u001B[1;33m,\u001B[0m \u001B[0mcheck\u001B[0m\u001B[1;33m=\u001B[0m\u001B[1;32mTrue\u001B[0m\u001B[1;33m,\u001B[0m \u001B[0mquiet\u001B[0m\u001B[1;33m=\u001B[0m\u001B[0mquiet\u001B[0m\u001B[1;33m)\u001B[0m\u001B[1;33m\u001B[0m\u001B[1;33m\u001B[0m\u001B[0m\n\u001B[0m\u001B[0;32m    269\u001B[0m     \u001B[1;32mreturn\u001B[0m \u001B[0mout\u001B[0m\u001B[1;33m\u001B[0m\u001B[1;33m\u001B[0m\u001B[0m\n\u001B[0;32m    270\u001B[0m \u001B[1;33m\u001B[0m\u001B[0m\n",
      "\u001B[1;32m~\\anaconda3\\envs\\me539\\lib\\site-packages\\graphviz\\backend.py\u001B[0m in \u001B[0;36mrun\u001B[1;34m(cmd, input, capture_output, check, encoding, quiet, **kwargs)\u001B[0m\n\u001B[0;32m    171\u001B[0m     \u001B[1;32mexcept\u001B[0m \u001B[0mOSError\u001B[0m \u001B[1;32mas\u001B[0m \u001B[0me\u001B[0m\u001B[1;33m:\u001B[0m\u001B[1;33m\u001B[0m\u001B[1;33m\u001B[0m\u001B[0m\n\u001B[0;32m    172\u001B[0m         \u001B[1;32mif\u001B[0m \u001B[0me\u001B[0m\u001B[1;33m.\u001B[0m\u001B[0merrno\u001B[0m \u001B[1;33m==\u001B[0m \u001B[0merrno\u001B[0m\u001B[1;33m.\u001B[0m\u001B[0mENOENT\u001B[0m\u001B[1;33m:\u001B[0m\u001B[1;33m\u001B[0m\u001B[1;33m\u001B[0m\u001B[0m\n\u001B[1;32m--> 173\u001B[1;33m             \u001B[1;32mraise\u001B[0m \u001B[0mExecutableNotFound\u001B[0m\u001B[1;33m(\u001B[0m\u001B[0mcmd\u001B[0m\u001B[1;33m)\u001B[0m \u001B[1;32mfrom\u001B[0m \u001B[0me\u001B[0m\u001B[1;33m\u001B[0m\u001B[1;33m\u001B[0m\u001B[0m\n\u001B[0m\u001B[0;32m    174\u001B[0m         \u001B[1;32melse\u001B[0m\u001B[1;33m:\u001B[0m\u001B[1;33m\u001B[0m\u001B[1;33m\u001B[0m\u001B[0m\n\u001B[0;32m    175\u001B[0m             \u001B[1;32mraise\u001B[0m\u001B[1;33m\u001B[0m\u001B[1;33m\u001B[0m\u001B[0m\n",
      "\u001B[1;31mExecutableNotFound\u001B[0m: failed to execute 'dot', make sure the Graphviz executables are on your systems' PATH"
     ]
    },
    {
     "data": {
      "text/plain": "<graphviz.dot.Digraph at 0x16648f43eb0>"
     },
     "execution_count": 1,
     "metadata": {},
     "output_type": "execute_result"
    }
   ],
   "source": [
    "from graphviz import Digraph # TODO add pygraphviz to dependencies\n",
    "g = Digraph('Asthma')\n",
    "g.node('X', label='X (treatment)')\n",
    "g.node('Y', label='Y (asthma)')\n",
    "g.node('Z', label='Z (air pollution)')\n",
    "g.edge('X','Y')\n",
    "g.edge('Z', 'Y')\n",
    "#g.render('asthma_graph', format='png') # Uncomment the line if you want to save the figure\n",
    "g"
   ]
  },
  {
   "cell_type": "markdown",
   "metadata": {},
   "source": [
    "## Types of Uncertainty\n",
    "In general, we are uncertain about something if we don't know much about it.\n",
    "In particular, we can be uncertain about:\n",
    "+ the value of a model parameter;\n",
    "+ the initial conditions of an ordinary differential equations;\n",
    "+ the boundary conditions of a partial differential equation;\n",
    "+ the value of an experimental measurement we are about to perform;\n",
    "+ the mathematical form of a model;\n",
    "+ etc.\n",
    "\n",
    "Uncertainty may be *aleatory* or *epistemic*.\n",
    "\n",
    "+ Aleatory uncertainty is associated with inherent system randomness. \n",
    "+ Epistemic uncertainty is associated with lack of knowledge.\n",
    "\n",
    "There is a long philosophical debate about this distinction.\n",
    "We are going to ignore it.\n",
    "The instructors view is that common sense and **probability theory are sufficient to describe both uncertainties**."
   ]
  }
 ],
 "metadata": {
  "kernelspec": {
   "name": "pycharm-6ebd678b",
   "language": "python",
   "display_name": "PyCharm (data-analytics-se)"
  },
  "language_info": {
   "codemirror_mode": {
    "name": "ipython",
    "version": 3
   },
   "file_extension": ".py",
   "mimetype": "text/x-python",
   "name": "python",
   "nbconvert_exporter": "python",
   "pygments_lexer": "ipython3",
   "version": "3.7.7"
  }
 },
 "nbformat": 4,
 "nbformat_minor": 4
}