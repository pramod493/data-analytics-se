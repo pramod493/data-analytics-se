{
 "cells": [
  {
   "cell_type": "markdown",
   "metadata": {
    "colab_type": "text",
    "id": "PRaKCR3iH9M3"
   },
   "source": [
    "# Converting a Notebook in your Google Drive to a PDF\n",
    "\n",
    "Prepared by: Indradip Roy, 2020\n",
    "\n",
    "## Step 1: Make sure you have saved your notebooks in the 'Colab Notebooks' directory\n",
    "\n",
    "## Step 2: Mount Google Drive to Colab's working directory"
   ]
  },
  {
   "cell_type": "code",
   "execution_count": null,
   "metadata": {
    "colab": {},
    "colab_type": "code",
    "id": "-KcSOzNSFIil"
   },
   "outputs": [],
   "source": [
    "from google.colab import drive\n",
    "drive.mount(\"/content/gdrive\")"
   ]
  },
  {
   "cell_type": "markdown",
   "metadata": {
    "colab_type": "text",
    "id": "g7yvkLt4IKK8"
   },
   "source": [
    "## Step 3: Change into your 'Colab Notebooks' folder"
   ]
  },
  {
   "cell_type": "code",
   "execution_count": null,
   "metadata": {
    "colab": {},
    "colab_type": "code",
    "id": "PhwPlTRrF099"
   },
   "outputs": [],
   "source": [
    "%cd /content/gdrive/My\\ Drive/Colab\\ Notebooks"
   ]
  },
  {
   "cell_type": "markdown",
   "metadata": {},
   "source": [
    "Here are your notebooks:"
   ]
  },
  {
   "cell_type": "code",
   "execution_count": null,
   "metadata": {},
   "outputs": [],
   "source": [
    "%ls"
   ]
  },
  {
   "cell_type": "markdown",
   "metadata": {
    "colab_type": "text",
    "id": "WFJv_j4XIbSO"
   },
   "source": [
    "## Step 4: Install relevant packages\n",
    "\n",
    "This takes a while...\n",
    "\n",
    "***nbconvert -*** Jupyter Notebook conversion tool, capable of converting .ipynb to .html, .pdf, .tex and several other formats [[Git]](https://github.com/jupyter/nbconvert.git) [[Guide]](https://nbconvert.readthedocs.io/en/latest/index.html) \\\\\n",
    "\n",
    "***XeLaTeX*** is required for conversion to .pdf\n",
    "\n",
    "Drawings in .svg format are to be converted into LaTeX supporter format through ***Inkscape***"
   ]
  },
  {
   "cell_type": "code",
   "execution_count": null,
   "metadata": {
    "colab": {},
    "colab_type": "code",
    "id": "JyFBSJpAGBRj"
   },
   "outputs": [],
   "source": [
    "#install nbconvert\n",
    "!pip install nbconvert\n",
    "#install xelatex for conversion to pdf through latex\n",
    "!apt-get install texlive-xetex texlive-fonts-recommended texlive-generic-recommended\n",
    "#install inkscape\n",
    "!apt install inkscape"
   ]
  },
  {
   "cell_type": "markdown",
   "metadata": {
    "colab_type": "text",
    "id": "hvHwBophJMGg"
   },
   "source": [
    "## Step 5: Convert relevant notebook to required format\n",
    "\n",
    "The above steps are needed to be done only once. Every conversion after that can be done through this notebook, but -- **'Change the name of the notebook everytime'**.\n",
    "\n",
    "Possible conversion types - html, pdf, webpdf, latex, slides, etc."
   ]
  },
  {
   "cell_type": "code",
   "execution_count": null,
   "metadata": {
    "colab": {},
    "colab_type": "code",
    "id": "9DNkmKyaGlnk"
   },
   "outputs": [],
   "source": [
    "# single notebook - !jupyter nbconvert --to pdf notebook-name.ipynb\n",
    "# batch conversion - !jupyter nbconvert --to pdf notebook-commonpart*.ipynb\n",
    "\n",
    "!jupyter nbconvert --to pdf hands-on-03.ipynb"
   ]
  }
 ],
 "metadata": {
  "colab": {
   "collapsed_sections": [],
   "name": "notebook_conversion.ipynb",
   "provenance": [
    {
     "file_id": "1WzV3ACCbbLes6VLugV7aiqOB6QPS7t9I",
     "timestamp": 1599008219536
    }
   ]
  },
  "kernelspec": {
   "display_name": "Python 3 (ipykernel)",
   "language": "python",
   "name": "python3"
  },
  "language_info": {
   "codemirror_mode": {
    "name": "ipython",
    "version": 3
   },
   "file_extension": ".py",
   "mimetype": "text/x-python",
   "name": "python",
   "nbconvert_exporter": "python",
   "pygments_lexer": "ipython3",
   "version": "3.8.11"
  }
 },
 "nbformat": 4,
 "nbformat_minor": 4
}
