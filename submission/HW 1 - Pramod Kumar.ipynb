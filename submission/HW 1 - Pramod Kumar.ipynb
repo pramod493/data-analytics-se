{
 "cells": [
  {
   "cell_type": "markdown",
   "metadata": {},
   "source": [
    "# Homework 1 - ME 539\n",
    "\n",
    "## References\n",
    "\n",
    "+ Lectures 1-2 (inclusive).\n",
    "\n",
    "## Instructions\n",
    "\n",
    "+ Type your name and email in the \"Student details\" section below.\n",
    "+ Develop the code and generate the figures you need to solve the problems using this notebook.\n",
    "+ For the answers that require a mathematical proof or derivation you can either:\n",
    "    \n",
    "    - Type the answer using the built-in latex capabilities. In this case, simply export the notebook as a pdf and upload it on gradescope; or\n",
    "    - You can print the notebook (after you are done with all the code), write your answers by hand, scan, turn your response to a single pdf, and upload on gradescope.\n",
    "\n",
    "+ The total homework points are 100. Please note that the problems are not weighed equally.\n",
    "\n",
    "**Note**: Please match all the pages corresponding to each of the questions when you submit on gradescope."
   ]
  },
  {
   "cell_type": "code",
   "execution_count": 1,
   "metadata": {},
   "outputs": [],
   "source": [
    "%matplotlib inline\n",
    "import matplotlib.pyplot as plt\n",
    "import seaborn as sns\n",
    "sns.set_context('paper')\n",
    "import numpy as np"
   ]
  },
  {
   "cell_type": "markdown",
   "metadata": {},
   "source": [
    "## Student details\n",
    "\n",
    "+ **First Name:** `Pramod`\n",
    "+ **Last Name:** `Kumar`\n",
    "+ **Email:** `kumar146@purdue.edu`"
   ]
  },
  {
   "cell_type": "markdown",
   "metadata": {
    "tags": []
   },
   "source": [
    "## Problem 1\n",
    "\n",
    "This exercise demonstrates that probability theory is actually an extension of logic. Assume that you know that ``A implies B\". That is, your prior information is:\n",
    "$$\n",
    "I = \\{A \\implies B\\}.\n",
    "$$\n",
    "Please answer the following questions in the space provided:\n",
    "\n",
    "A. (4 points) $p(AB|I) = p(A|I)$.\n",
    "\n",
    "**Proof:**\n",
    "\n",
    "$p(AB|I) = p(A,B|I) = p(A|B,I)p(B|I)$ from product rule of Bayes theorem\n",
    "\n",
    "$\\implies p(AB|I) = \\frac{p(A \\cap B|I)}{p(B|I)} p(B|I)$\n",
    "\n",
    "$\\implies p(AB|I) = p(A \\cap B|I)$\n",
    "\n",
    "$\\implies p(AB|I) = p(A|I) = p(A)$ since _A implies B i.e. A is subset of B_\n",
    "\n",
    "<br><br><br><hr />"
   ]
  },
  {
   "cell_type": "markdown",
   "metadata": {},
   "source": [
    "B. If $p(A|I) = 1$, then $p(B|I) = 1$.\n",
    "\n",
    "\n",
    "\n",
    "**Proof:**\n",
    "\n",
    "$p(A) = 1 \\implies p(\\neg A) = 0$\n",
    "\n",
    "$$\n",
    "p(B) = p(A|B)p(B) + p(A| \\neg B)p(\\neg B) \\\\\n",
    "    = p(A|B) \\times 1  + p(B | \\neg A) \\times 0 \\\\\n",
    "    = p(A|B) = \\frac{p(A \\cap B)}{p(A)} \\\\\n",
    "    = \\frac{p(A)}{p(A)} \\\\\n",
    "    = 1\n",
    "$$\n",
    "\n",
    "<br><br><br><hr />"
   ]
  },
  {
   "cell_type": "markdown",
   "metadata": {
    "tags": []
   },
   "source": [
    "C. If $p(B|I) = 0$, then $p(A|I) = 0$.\n",
    "\n",
    "**Proof:**\n",
    "\n",
    "\n",
    "> Since A implies B means $p(B|A) = 1$\n",
    "\n",
    "\n",
    "$p(B) = 0 \\implies p(\\neg B) = 1$\n",
    "\n",
    "$p(A) = p(A|B)p(B) + p(A|\\neg B)p(\\neg B) \\\\\n",
    "    = p(A|B) \\times 0 + p(A| \\neg B) \\times 1 \\\\\n",
    "    = 0 + p(A| \\neg B) \\times 1$\n",
    "\n",
    "Since A is subset of B, $p(A| \\neg B) = 0$\n",
    "\n",
    "$\\implies p(A) = 0 + (0 \\times 1) = 0$\n",
    "\n",
    "<hr />"
   ]
  },
  {
   "cell_type": "markdown",
   "metadata": {},
   "source": [
    "D. B and C show that probability theory is consistent with Aristotelian logic. Now, you will discover how it extends it. Show that if B is true, then A becomes more plausible, i.e.\n",
    "$$\n",
    "p(A|BI) \\geq p(A|I).\n",
    "$$\n",
    "**Proof:**\n",
    "\n",
    "From Bayes theorem, we know that $p(AB) = p(A|B)p(B)$ and $p(AB) = p(B|A)p(A)$.\n",
    "\n",
    "Therefore\n",
    "$$\n",
    "p(A|B)p(B) = p(B|A)p(A) \\\\\n",
    "\\implies p(A|B) = \\frac{p(B|A)p(A)}{p(B)}\n",
    "$$\n",
    "\n",
    "Since $p(B|A) = 1$\n",
    "\n",
    "$$\n",
    "p(A|B) = \\frac{p(A)}{p(B)}\n",
    "$$\n",
    "\n",
    "> Note that this is only applicable because A is a subset of B\n",
    "\n",
    "- If $p(B) = 0$, then $p(A) = 0$ and $p(A|BI) = p(A|I) = 0$. \n",
    "- Also, if $p(B) = 1$, then $p(A|BI) = p(A|I)$\n",
    "- For all other  values of p(B) ( since $0 \\geq p(B) \\leq 1$), $p(A|BI) > p(A|I)$\n",
    "\n",
    "<br><br><br><hr />"
   ]
  },
  {
   "cell_type": "markdown",
   "metadata": {},
   "source": [
    "E. Give at least two examples of D that apply to various scientific fields. To get you started, here are two examples:\n",
    "\n",
    "- $A$: It is raining. $B$: There are clouds in the sky. Clearly,  $A \\implies B$. $D$ tells us that if there are clouds in the sky, raining becomes more plausible.\n",
    "    \n",
    "- $A$: General relativity. $B$: Light is deflected in the presence of massive bodies. Here  $A \\implies B$. Observing that $B$ is true makes $A$ more plausible.\n",
    "\n",
    "**Answer:**\n",
    "\n",
    "- $A$: <br><br>\n",
    "  $B$: <br><br>\n",
    "  \n",
    "- $A$: <br><br>\n",
    "  $B$: <br><br>"
   ]
  },
  {
   "cell_type": "markdown",
   "metadata": {},
   "source": [
    "F. Show that if $A$ is false, then $B$ becomes less plausible, i.e.: \n",
    "$$\n",
    "p(B|\\neg AI) \\leq p(B|I).\n",
    "$$\n",
    "**Proof:**\n",
    "\n",
    "$$\n",
    "p(B|I) = p(B) = p(B|A)p(A) + p(B| \\neg A)p(\\neg A) \n",
    "$$\n",
    "\n",
    "<br><br><br><hr />"
   ]
  },
  {
   "cell_type": "markdown",
   "metadata": {},
   "source": [
    "G. Can you think of an example of scientific reasoning that involves F? For example:\n",
    "$A$: It is raining. $B$: There are clouds in the sky. F tells us that if it is not raining, then it is less plausible that there are clouds in the sky.\n",
    "\n",
    "**Answer:**\n",
    "\n",
    "- A: Engine is running\n",
    "- B: There is fuel in the tank\n",
    "\n",
    "In this example A implies B but B does not imply A i.e. if there is fuel in the tank does not mean that engine is running. \n",
    "\n",
    "In context of (F), probability of having fuel in the tank (B) is sum of:\n",
    "\n",
    "- Tank has fuel and engine is running ($A \\cap B$)\n",
    "- Tank has fuel but engine is not running ($\\neg A \\cap B$)\n",
    "\n",
    "$p(B)$ includes not just $p(B | \\neg A)$ but also includes $p(B|A)$. \n",
    "Therefore, $p(B) \\geq p(B | \\neg A )$ \n",
    "<hr />"
   ]
  },
  {
   "cell_type": "markdown",
   "metadata": {},
   "source": [
    "H. Do D and F contradict Karl Popper's [principle of falsification](https://en.wikipedia.org/wiki/Falsifiability), \"A theory in the empirical sciences can never be proven, but it can be falsified, meaning that it can and should be scrutinized by decisive experiments.\"\n",
    "\n",
    "**Answer:**\n",
    "\n",
    "D and F do not contradict the Falsifiability principle. Based on examples from (E), we will see that D and F are in alignment with the above principle.\n",
    "\n",
    "-- Incomplete --\n",
    "\n",
    "<br><br><br><br><hr />"
   ]
  },
  {
   "cell_type": "markdown",
   "metadata": {},
   "source": [
    "## Problem 2\n",
    "\n",
    "Disclaimer: This example is a modified version of the one found in a 2013 lecture on Bayesian Scientific Computing taught by Prof. Nicholas Zabaras.\n",
    "I am not sure where the original problem is coming from.\n",
    "\n",
    "We are tasked with assessing the usefulness of a tuberculosis test.\n",
    "The prior information I is:\n",
    "\n",
    "> The percentage of the population infected by tuberculosis is 0.4\\%.\n",
    "We have run several experiments and determined that:\n",
    "+ If a tested patient has the disease, then 80\\% of the time the test comes out positive.\n",
    "+ If a tested patient does not have the disease, then 90\\% of the time the test comes out negative.\n",
    "\n",
    "To facilitate your analysis, consider the following logical sentences concerning a patient:\n",
    "\n",
    "> A: The patient is tested and the test is positive.\n",
    "\n",
    "> B: The patient has tuberculosis.\n",
    "\n",
    "A. Find the probability that the patient has tuberculosis (before looking at the result of the test), i.e., $p(B|I)$. This is known as the base rate or the prior probability.\n",
    "\n",
    "**Answer:**"
   ]
  },
  {
   "cell_type": "markdown",
   "metadata": {},
   "source": [
    "Since 4\\% of patients have tuberculosis (TB), $p(B|I) = 0.4/100 = 0.004$\n",
    "\n",
    "<br><br><br><hr />"
   ]
  },
  {
   "cell_type": "markdown",
   "metadata": {},
   "source": [
    "B. Find the probability that the test is positive given that the patient has tuberculosis, i.e., $p(A|B,I)$.<br>\n",
    "**Answer:**\n",
    "\n",
    "Since the test is positive 80 percent of the times when the patient is positive, therefore\n",
    "\n",
    "$p(A|B,I) = 0.8$\n",
    "\n",
    "<br><br><br><hr />"
   ]
  },
  {
   "cell_type": "markdown",
   "metadata": {},
   "source": [
    "C. Find the probability that the test is positive given that the patient does not have tuberculosis, i.e., $p(A|\\neg B, I)$.<br>\n",
    "**Answer:**"
   ]
  },
  {
   "cell_type": "markdown",
   "metadata": {},
   "source": [
    "$$\n",
    "p(A| \\neg B) = 1 - p(\\neg A | \\neg B) = 1 - 0.90 = 0.10\n",
    "$$\n",
    "\n",
    "<br><br><br><hr/>"
   ]
  },
  {
   "cell_type": "markdown",
   "metadata": {},
   "source": [
    "D. Find the probability that a patient that tested positive has tuberculosis, i.e., $p(B|A,I)$.<br>\n",
    "**Answer:**\n"
   ]
  },
  {
   "cell_type": "markdown",
   "metadata": {},
   "source": [
    "Ley us first calculate $p(A)$\n",
    "\n",
    "$$\n",
    "p(A) = p(A|B)p(B) + p(A | \\neg B)p(\\neg B) \\\\\n",
    "= p(A|B)p(B) + (1 - p(\\neg A | \\neg B))p(\\neg B) \\\\\n",
    "= (0.80 \\times 0.004) + (1-0.90) \\times 0.96 \\\\\n",
    "\\implies p(A) = 0.0992\n",
    "$$\n",
    "\n",
    "We also have\n",
    "\n",
    "$$\n",
    "p(A|B)p(B) = p(B|A)p(A) \\\\\n",
    "p(B|A) = p(A|B) \\times \\frac{p(B)}{p(A)} = 0.80 \\times 0.04 / 0.0992 = 0.3225\n",
    "$$\n",
    "\n",
    "\n",
    "<br><br><br><hr />"
   ]
  },
  {
   "cell_type": "markdown",
   "metadata": {},
   "source": [
    "E. Find the probability that a patient that tested negative has tuberculosis, i.e., $p(B|\\neg A, I)$. Does the test change our prior state of knowledge about about the patient? Is the test useful?<br>\n",
    "**Answer:**\n",
    "\n",
    "\n",
    "<br><br><br><br><br><br><br><br>"
   ]
  },
  {
   "cell_type": "markdown",
   "metadata": {},
   "source": [
    "F. What would a good test look like? Find values for \n",
    "$$\n",
    "p(A|B,I)= p(\\text{test is positive} |\\text{has tuberculosis},I),\n",
    "$$\n",
    "and\n",
    "$$\n",
    "p(A| \\neg B, I) = p(\\text{test is positive}|\\text{does not have tuberculosis}, I),\n",
    "$$\n",
    "so that\n",
    "$$\n",
    "p(B|A, I) = p(\\text{has tuberculosis}|\\text{test is positive}, I) = 0.99.\n",
    "$$\n",
    "There are more than one solutions. How would you pick a good one? Thinking in this way can help you set goals if you work in R\\&D. If you have time, try to figure out whether or not there exists such an accurate test for tuberculosis<br>\n",
    "**Answer:**\n",
    "<br><br><br><br><br><br><br><br>"
   ]
  }
 ],
 "metadata": {
  "kernelspec": {
   "display_name": "Python 3 (ipykernel)",
   "language": "python",
   "name": "python3"
  },
  "language_info": {
   "codemirror_mode": {
    "name": "ipython",
    "version": 3
   },
   "file_extension": ".py",
   "mimetype": "text/x-python",
   "name": "python",
   "nbconvert_exporter": "python",
   "pygments_lexer": "ipython3",
   "version": "3.8.11"
  }
 },
 "nbformat": 4,
 "nbformat_minor": 4
}
